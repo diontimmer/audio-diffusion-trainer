{
 "cells": [
  {
   "cell_type": "markdown",
   "id": "ee400cce-5405-47d7-b79e-5e8c558bbb00",
   "metadata": {
    "tags": []
   },
   "source": [
    "# Setup"
   ]
  },
  {
   "cell_type": "markdown",
   "id": "c4314bd5-1563-45d4-b3be-dd5acf5eacdf",
   "metadata": {
    "tags": []
   },
   "source": [
    "## Install"
   ]
  },
  {
   "cell_type": "markdown",
   "id": "a8b4af35-3dff-4954-8050-7bf132530316",
   "metadata": {},
   "source": [
    "### xformers"
   ]
  },
  {
   "cell_type": "code",
   "execution_count": 1,
   "id": "8e30fdac-328a-4356-99ba-9184fb82e4f4",
   "metadata": {
    "jupyter": {
     "source_hidden": true
    },
    "tags": []
   },
   "outputs": [
    {
     "name": "stdout",
     "output_type": "stream",
     "text": [
      "xformers is installed..\n"
     ]
    }
   ],
   "source": [
    "try:\n",
    "    import xformers\n",
    "    print('xformers is installed..')\n",
    "except Exception as e:\n",
    "    print('xformers is not installed, building and installing it now! This might take a while.')\n",
    "    !pip3 install ninja\n",
    "    !pip3 install -v -U git+https://github.com/facebookresearch/xformers.git@main#egg=xformers"
   ]
  },
  {
   "cell_type": "markdown",
   "id": "f6017a63-ecdb-4ab8-b10d-a1a01fb8b773",
   "metadata": {
    "tags": []
   },
   "source": [
    "### Torch"
   ]
  },
  {
   "cell_type": "code",
   "execution_count": 2,
   "id": "e71e0f7e-13d5-4c4c-94b4-4fe70e045608",
   "metadata": {
    "jupyter": {
     "source_hidden": true
    },
    "scrolled": true,
    "tags": []
   },
   "outputs": [
    {
     "name": "stdout",
     "output_type": "stream",
     "text": [
      "Defaulting to user installation because normal site-packages is not writeable\n",
      "Requirement already satisfied: torch in /home/ubuntu/.local/lib/python3.8/site-packages (1.13.1+cu116)\n",
      "Requirement already satisfied: torchvision in /home/ubuntu/.local/lib/python3.8/site-packages (0.14.1+cu116)\n",
      "Requirement already satisfied: torchaudio in /home/ubuntu/.local/lib/python3.8/site-packages (0.13.1+cu116)\n",
      "Requirement already satisfied: typing-extensions in /home/ubuntu/.local/lib/python3.8/site-packages (from torch) (4.4.0)\n",
      "Requirement already satisfied: requests in /home/ubuntu/.local/lib/python3.8/site-packages (from torchvision) (2.28.1)\n",
      "Requirement already satisfied: pillow!=8.3.*,>=5.3.0 in /usr/lib/python3/dist-packages (from torchvision) (7.0.0)\n",
      "Requirement already satisfied: numpy in /home/ubuntu/.local/lib/python3.8/site-packages (from torchvision) (1.23.4)\n",
      "Requirement already satisfied: charset-normalizer<3,>=2 in /home/ubuntu/.local/lib/python3.8/site-packages (from requests->torchvision) (2.1.1)\n",
      "Requirement already satisfied: idna<4,>=2.5 in /usr/lib/python3/dist-packages (from requests->torchvision) (2.8)\n",
      "Requirement already satisfied: urllib3<1.27,>=1.21.1 in /usr/lib/python3/dist-packages (from requests->torchvision) (1.25.8)\n",
      "Requirement already satisfied: certifi>=2017.4.17 in /usr/lib/python3/dist-packages (from requests->torchvision) (2019.11.28)\n",
      "\n",
      "\u001b[1m[\u001b[0m\u001b[34;49mnotice\u001b[0m\u001b[1;39;49m]\u001b[0m\u001b[39;49m A new release of pip available: \u001b[0m\u001b[31;49m22.3\u001b[0m\u001b[39;49m -> \u001b[0m\u001b[32;49m22.3.1\u001b[0m\n",
      "\u001b[1m[\u001b[0m\u001b[34;49mnotice\u001b[0m\u001b[1;39;49m]\u001b[0m\u001b[39;49m To update, run: \u001b[0m\u001b[32;49mpython3 -m pip install --upgrade pip\u001b[0m\n",
      "Defaulting to user installation because normal site-packages is not writeable\n",
      "Requirement already satisfied: triton==2.0.0.dev20221120 in /home/ubuntu/.local/lib/python3.8/site-packages (2.0.0.dev20221120)\n",
      "Requirement already satisfied: torch in /home/ubuntu/.local/lib/python3.8/site-packages (from triton==2.0.0.dev20221120) (1.13.1+cu116)\n",
      "Requirement already satisfied: filelock in /usr/lib/python3/dist-packages (from triton==2.0.0.dev20221120) (3.0.12)\n",
      "Requirement already satisfied: cmake in /home/ubuntu/.local/lib/python3.8/site-packages (from triton==2.0.0.dev20221120) (3.25.0)\n",
      "Requirement already satisfied: typing-extensions in /home/ubuntu/.local/lib/python3.8/site-packages (from torch->triton==2.0.0.dev20221120) (4.4.0)\n",
      "\n",
      "\u001b[1m[\u001b[0m\u001b[34;49mnotice\u001b[0m\u001b[1;39;49m]\u001b[0m\u001b[39;49m A new release of pip available: \u001b[0m\u001b[31;49m22.3\u001b[0m\u001b[39;49m -> \u001b[0m\u001b[32;49m22.3.1\u001b[0m\n",
      "\u001b[1m[\u001b[0m\u001b[34;49mnotice\u001b[0m\u001b[1;39;49m]\u001b[0m\u001b[39;49m To update, run: \u001b[0m\u001b[32;49mpython3 -m pip install --upgrade pip\u001b[0m\n",
      "Defaulting to user installation because normal site-packages is not writeable\n",
      "Requirement already satisfied: audio-diffusion-pytorch in /home/ubuntu/.local/lib/python3.8/site-packages (0.1.0)\n",
      "Requirement already satisfied: torchaudio in /home/ubuntu/.local/lib/python3.8/site-packages (from audio-diffusion-pytorch) (0.13.1+cu116)\n",
      "Requirement already satisfied: data-science-types>=0.2 in /home/ubuntu/.local/lib/python3.8/site-packages (from audio-diffusion-pytorch) (0.2.23)\n",
      "Requirement already satisfied: einops>=0.6 in /home/ubuntu/.local/lib/python3.8/site-packages (from audio-diffusion-pytorch) (0.6.0)\n",
      "Requirement already satisfied: torch>=1.6 in /home/ubuntu/.local/lib/python3.8/site-packages (from audio-diffusion-pytorch) (1.13.1+cu116)\n",
      "Requirement already satisfied: tqdm in /home/ubuntu/.local/lib/python3.8/site-packages (from audio-diffusion-pytorch) (4.64.1)\n",
      "Requirement already satisfied: a-unet in /home/ubuntu/.local/lib/python3.8/site-packages (from audio-diffusion-pytorch) (0.0.13)\n",
      "Requirement already satisfied: typing-extensions in /home/ubuntu/.local/lib/python3.8/site-packages (from torch>=1.6->audio-diffusion-pytorch) (4.4.0)\n",
      "Requirement already satisfied: xformers>=0.0.13 in /home/ubuntu/.local/lib/python3.8/site-packages (from a-unet->audio-diffusion-pytorch) (0.0.16+814314d.d20230118)\n",
      "Requirement already satisfied: pyre-extensions==0.0.23 in /home/ubuntu/.local/lib/python3.8/site-packages (from xformers>=0.0.13->a-unet->audio-diffusion-pytorch) (0.0.23)\n",
      "Requirement already satisfied: numpy in /home/ubuntu/.local/lib/python3.8/site-packages (from xformers>=0.0.13->a-unet->audio-diffusion-pytorch) (1.23.4)\n",
      "Requirement already satisfied: typing-inspect in /home/ubuntu/.local/lib/python3.8/site-packages (from pyre-extensions==0.0.23->xformers>=0.0.13->a-unet->audio-diffusion-pytorch) (0.8.0)\n",
      "Requirement already satisfied: mypy-extensions>=0.3.0 in /home/ubuntu/.local/lib/python3.8/site-packages (from typing-inspect->pyre-extensions==0.0.23->xformers>=0.0.13->a-unet->audio-diffusion-pytorch) (0.4.3)\n",
      "\n",
      "\u001b[1m[\u001b[0m\u001b[34;49mnotice\u001b[0m\u001b[1;39;49m]\u001b[0m\u001b[39;49m A new release of pip available: \u001b[0m\u001b[31;49m22.3\u001b[0m\u001b[39;49m -> \u001b[0m\u001b[32;49m22.3.1\u001b[0m\n",
      "\u001b[1m[\u001b[0m\u001b[34;49mnotice\u001b[0m\u001b[1;39;49m]\u001b[0m\u001b[39;49m To update, run: \u001b[0m\u001b[32;49mpython3 -m pip install --upgrade pip\u001b[0m\n"
     ]
    }
   ],
   "source": [
    "!pip3 install torch torchvision torchaudio\n",
    "!pip3 install triton==2.0.0.dev20221120\n",
    "!pip3 install audio-diffusion-pytorch"
   ]
  },
  {
   "cell_type": "markdown",
   "id": "03ba75cf-b297-4e52-ac8c-2ce57dea06ac",
   "metadata": {},
   "source": [
    "## Variables"
   ]
  },
  {
   "cell_type": "code",
   "execution_count": 3,
   "id": "6493a2fc-fbdb-452c-846a-24c379acfd9f",
   "metadata": {
    "jupyter": {
     "source_hidden": true
    },
    "tags": []
   },
   "outputs": [],
   "source": [
    "from trainer.trainer_helpers import *\n",
    "from types import SimpleNamespace\n",
    "from ipywidgets import widgets\n",
    "from IPython.display import display\n",
    "\n",
    "model = None\n",
    "util_dropdown = widgets.Dropdown(options=['Sample', 'Create Dataset', 'Train'], value='Train', description='Select an option:', style=dict(description_width='initial'))"
   ]
  },
  {
   "cell_type": "markdown",
   "id": "aa8c6836-697f-4df7-8278-e3e25993b83d",
   "metadata": {},
   "source": [
    "# Start Process"
   ]
  },
  {
   "cell_type": "markdown",
   "id": "779c1e6f-84c2-4bc3-ad02-deec242dd353",
   "metadata": {
    "tags": []
   },
   "source": [
    "#### Create Args & Init Model"
   ]
  },
  {
   "cell_type": "code",
   "execution_count": 4,
   "id": "1bb25de0-8b16-47d2-a452-4dc5f0fe2737",
   "metadata": {
    "tags": []
   },
   "outputs": [],
   "source": [
    "def get_args():\n",
    "    return SimpleNamespace(**{\n",
    "        \n",
    "        # General\n",
    "        'modelname': 'riddim_drop', # name for project\n",
    "        'custom_ckpt_path': None, # Custom Load\n",
    "        'modeltype': 'uncond', #uncond, text_cond, upsampler\n",
    "        \n",
    "        # Training\n",
    "        'dataset': 'datasets/riddim_drop_524288.pkl', # custom Dataset\n",
    "        'training_audio_path': None, # path for training audio\n",
    "        'batch_size': 10, # training batch size\n",
    "        'num_epochs': 10000, # training epochs\n",
    "        'size': 524288, # training size\n",
    "        'save_every': 1000,\n",
    "        'sample_rate': 48000,\n",
    "        \n",
    "        \n",
    "        # Private\n",
    "        'epoch_override': 0,\n",
    "    })\n",
    "args = get_args()\n",
    "\n",
    "if model != None:\n",
    "    del model\n",
    "\n",
    "modeldata = create_model(args.modeltype)\n",
    "model = modeldata[0]\n",
    "optimizer = modeldata[1]"
   ]
  },
  {
   "cell_type": "markdown",
   "id": "8a7867f5-6e97-40cf-a7a8-0927744dc9fb",
   "metadata": {},
   "source": [
    "#### Load Checkpoint"
   ]
  },
  {
   "cell_type": "code",
   "execution_count": 5,
   "id": "87ef3f97-f591-4ea1-a5d5-2b181b3c25e6",
   "metadata": {
    "jupyter": {
     "source_hidden": true
    },
    "tags": []
   },
   "outputs": [],
   "source": [
    "if args.custom_ckpt_path != None:\n",
    "    load_values = load_from_checkpoint(args.custom_ckpt_path, model, optimizer) # load from checkpoint\n",
    "    model = load_values[0]\n",
    "    epoch = load_values[1]\n",
    "    args.epoch_override = epoch"
   ]
  },
  {
   "cell_type": "markdown",
   "id": "387ac1c8-0326-449e-b11b-f7ca44fc94d9",
   "metadata": {},
   "source": [
    "#### Create Dataset"
   ]
  },
  {
   "cell_type": "code",
   "execution_count": 7,
   "id": "2a498cef-0ff9-4ed2-8250-71a09fac951f",
   "metadata": {
    "jupyter": {
     "source_hidden": true
    },
    "tags": []
   },
   "outputs": [],
   "source": [
    "if args.training_audio_path != None:\n",
    "    create_new_dataset(args)    "
   ]
  },
  {
   "cell_type": "markdown",
   "id": "c29087ca-48a2-4cee-b0ac-0ba12e044141",
   "metadata": {
    "tags": []
   },
   "source": [
    "# Util"
   ]
  },
  {
   "cell_type": "code",
   "execution_count": 9,
   "id": "4327631c-88a3-4868-9054-71c667f136ee",
   "metadata": {
    "jupyter": {
     "source_hidden": true
    },
    "tags": []
   },
   "outputs": [
    {
     "data": {
      "application/vnd.jupyter.widget-view+json": {
       "model_id": "0d8045091b2f4204b515b0b1f28672f8",
       "version_major": 2,
       "version_minor": 0
      },
      "text/plain": [
       "Dropdown(description='Select an option:', index=2, options=('Sample', 'Create Dataset', 'Train'), style=Descri…"
      ]
     },
     "metadata": {},
     "output_type": "display_data"
    }
   ],
   "source": [
    "display(util_dropdown)"
   ]
  },
  {
   "cell_type": "code",
   "execution_count": 10,
   "id": "9c164eb2-9b72-40e8-b911-03431f7e227a",
   "metadata": {
    "tags": []
   },
   "outputs": [
    {
     "data": {
      "application/vnd.jupyter.widget-view+json": {
       "model_id": "ff494aee3437468c85d6663f26087ddf",
       "version_major": 2,
       "version_minor": 0
      },
      "text/plain": [
       "  0%|          | 0/15 [00:00<?, ?it/s]"
      ]
     },
     "metadata": {},
     "output_type": "display_data"
    },
    {
     "ename": "KeyboardInterrupt",
     "evalue": "",
     "output_type": "error",
     "traceback": [
      "\u001b[0;31m---------------------------------------------------------------------------\u001b[0m",
      "\u001b[0;31mKeyboardInterrupt\u001b[0m                         Traceback (most recent call last)",
      "\u001b[0;32m<ipython-input-10-a14ad2e04fa1>\u001b[0m in \u001b[0;36m<module>\u001b[0;34m\u001b[0m\n\u001b[1;32m      5\u001b[0m \u001b[0;32melif\u001b[0m \u001b[0mutil_dropdown\u001b[0m\u001b[0;34m.\u001b[0m\u001b[0mvalue\u001b[0m \u001b[0;34m==\u001b[0m \u001b[0;34m'Train'\u001b[0m\u001b[0;34m:\u001b[0m\u001b[0;34m\u001b[0m\u001b[0;34m\u001b[0m\u001b[0m\n\u001b[1;32m      6\u001b[0m     \u001b[0;32mif\u001b[0m \u001b[0mmodel\u001b[0m \u001b[0;34m!=\u001b[0m \u001b[0;32mNone\u001b[0m\u001b[0;34m:\u001b[0m\u001b[0;34m\u001b[0m\u001b[0;34m\u001b[0m\u001b[0m\n\u001b[0;32m----> 7\u001b[0;31m         \u001b[0mmodel\u001b[0m \u001b[0;34m=\u001b[0m \u001b[0mtrain_model_with_waveforms\u001b[0m\u001b[0;34m(\u001b[0m\u001b[0mmodel\u001b[0m\u001b[0;34m,\u001b[0m \u001b[0moptimizer\u001b[0m\u001b[0;34m,\u001b[0m \u001b[0margs\u001b[0m\u001b[0;34m)\u001b[0m \u001b[0;31m# train new model OR\u001b[0m\u001b[0;34m\u001b[0m\u001b[0;34m\u001b[0m\u001b[0m\n\u001b[0m",
      "\u001b[0;32m~/sdaudio/trainer/trainer_helpers.py\u001b[0m in \u001b[0;36mtrain_model_with_waveforms\u001b[0;34m(model, optimizer, args)\u001b[0m\n\u001b[1;32m    105\u001b[0m         \u001b[0mepoch\u001b[0m \u001b[0;34m=\u001b[0m \u001b[0mepoch_override\u001b[0m \u001b[0;34m+\u001b[0m \u001b[0mepoch\u001b[0m\u001b[0;34m\u001b[0m\u001b[0;34m\u001b[0m\u001b[0m\n\u001b[1;32m    106\u001b[0m         \u001b[0mepoch_i\u001b[0m \u001b[0;34m=\u001b[0m \u001b[0mepoch\u001b[0m \u001b[0;34m+\u001b[0m \u001b[0;36m1\u001b[0m\u001b[0;34m\u001b[0m\u001b[0;34m\u001b[0m\u001b[0m\n\u001b[0;32m--> 107\u001b[0;31m         \u001b[0mprog_bar\u001b[0m \u001b[0;34m=\u001b[0m \u001b[0mtqdm\u001b[0m\u001b[0;34m(\u001b[0m\u001b[0mdataloader\u001b[0m\u001b[0;34m,\u001b[0m \u001b[0mtotal\u001b[0m\u001b[0;34m=\u001b[0m\u001b[0mlen\u001b[0m\u001b[0;34m(\u001b[0m\u001b[0mdataloader\u001b[0m\u001b[0;34m)\u001b[0m\u001b[0;34m)\u001b[0m\u001b[0;34m\u001b[0m\u001b[0;34m\u001b[0m\u001b[0m\n\u001b[0m\u001b[1;32m    108\u001b[0m         \u001b[0;32mfor\u001b[0m \u001b[0mi\u001b[0m\u001b[0;34m,\u001b[0m \u001b[0mwaveform\u001b[0m \u001b[0;32min\u001b[0m \u001b[0menumerate\u001b[0m\u001b[0;34m(\u001b[0m\u001b[0mprog_bar\u001b[0m\u001b[0;34m)\u001b[0m\u001b[0;34m:\u001b[0m\u001b[0;34m\u001b[0m\u001b[0;34m\u001b[0m\u001b[0m\n\u001b[1;32m    109\u001b[0m             \u001b[0;31m# Forward pass\u001b[0m\u001b[0;34m\u001b[0m\u001b[0;34m\u001b[0m\u001b[0;34m\u001b[0m\u001b[0m\n",
      "\u001b[0;32m~/.local/lib/python3.8/site-packages/torch/_tensor.py\u001b[0m in \u001b[0;36mbackward\u001b[0;34m(self, gradient, retain_graph, create_graph, inputs)\u001b[0m\n\u001b[1;32m    486\u001b[0m                 \u001b[0minputs\u001b[0m\u001b[0;34m=\u001b[0m\u001b[0minputs\u001b[0m\u001b[0;34m,\u001b[0m\u001b[0;34m\u001b[0m\u001b[0;34m\u001b[0m\u001b[0m\n\u001b[1;32m    487\u001b[0m             )\n\u001b[0;32m--> 488\u001b[0;31m         torch.autograd.backward(\n\u001b[0m\u001b[1;32m    489\u001b[0m             \u001b[0mself\u001b[0m\u001b[0;34m,\u001b[0m \u001b[0mgradient\u001b[0m\u001b[0;34m,\u001b[0m \u001b[0mretain_graph\u001b[0m\u001b[0;34m,\u001b[0m \u001b[0mcreate_graph\u001b[0m\u001b[0;34m,\u001b[0m \u001b[0minputs\u001b[0m\u001b[0;34m=\u001b[0m\u001b[0minputs\u001b[0m\u001b[0;34m\u001b[0m\u001b[0;34m\u001b[0m\u001b[0m\n\u001b[1;32m    490\u001b[0m         )\n",
      "\u001b[0;32m~/.local/lib/python3.8/site-packages/torch/autograd/__init__.py\u001b[0m in \u001b[0;36mbackward\u001b[0;34m(tensors, grad_tensors, retain_graph, create_graph, grad_variables, inputs)\u001b[0m\n\u001b[1;32m    195\u001b[0m     \u001b[0;31m# some Python versions print out the first line of a multi-line function\u001b[0m\u001b[0;34m\u001b[0m\u001b[0;34m\u001b[0m\u001b[0;34m\u001b[0m\u001b[0m\n\u001b[1;32m    196\u001b[0m     \u001b[0;31m# calls in the traceback and some print out the last line\u001b[0m\u001b[0;34m\u001b[0m\u001b[0;34m\u001b[0m\u001b[0;34m\u001b[0m\u001b[0m\n\u001b[0;32m--> 197\u001b[0;31m     Variable._execution_engine.run_backward(  # Calls into the C++ engine to run the backward pass\n\u001b[0m\u001b[1;32m    198\u001b[0m         \u001b[0mtensors\u001b[0m\u001b[0;34m,\u001b[0m \u001b[0mgrad_tensors_\u001b[0m\u001b[0;34m,\u001b[0m \u001b[0mretain_graph\u001b[0m\u001b[0;34m,\u001b[0m \u001b[0mcreate_graph\u001b[0m\u001b[0;34m,\u001b[0m \u001b[0minputs\u001b[0m\u001b[0;34m,\u001b[0m\u001b[0;34m\u001b[0m\u001b[0;34m\u001b[0m\u001b[0m\n\u001b[1;32m    199\u001b[0m         allow_unreachable=True, accumulate_grad=True)  # Calls into the C++ engine to run the backward pass\n",
      "\u001b[0;31mKeyboardInterrupt\u001b[0m: "
     ]
    }
   ],
   "source": [
    "if util_dropdown.value == 'Sample':\n",
    "    sample_model(model, filename=f'{modelname}_sample', custom_dir=args.modelname) # sample model\n",
    "elif util_dropdown.value == 'Create Dataset':\n",
    "    create_new_dataset(args) # create new dataset\n",
    "elif util_dropdown.value == 'Train':\n",
    "    if model != None:\n",
    "        model = train_model_with_waveforms(model, optimizer, args) # train new model OR"
   ]
  },
  {
   "cell_type": "code",
   "execution_count": null,
   "id": "7bbd610e-0f10-4cb4-843d-ef0fa24235c1",
   "metadata": {},
   "outputs": [],
   "source": []
  }
 ],
 "metadata": {
  "kernelspec": {
   "display_name": "Python 3",
   "language": "python",
   "name": "python3"
  },
  "language_info": {
   "codemirror_mode": {
    "name": "ipython",
    "version": 3
   },
   "file_extension": ".py",
   "mimetype": "text/x-python",
   "name": "python",
   "nbconvert_exporter": "python",
   "pygments_lexer": "ipython3",
   "version": "3.8.10"
  }
 },
 "nbformat": 4,
 "nbformat_minor": 5
}
